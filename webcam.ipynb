{
 "cells": [
  {
   "cell_type": "code",
   "execution_count": 1,
   "id": "6371f5ca-159a-4b55-963a-f91689b51cae",
   "metadata": {},
   "outputs": [],
   "source": [
    "import numpy as np\n",
    "import cv2\n",
    "import pickle"
   ]
  },
  {
   "cell_type": "code",
   "execution_count": 2,
   "id": "d95e7fd3-3884-4294-8829-f691edbed5ba",
   "metadata": {},
   "outputs": [
    {
     "name": "stderr",
     "output_type": "stream",
     "text": [
      "Using TensorFlow backend.\n"
     ]
    }
   ],
   "source": [
    "pickle_in=open(\"saved_model.pkl\",\"rb\")  ## rb = READ BYTE\n",
    "model=pickle.load(pickle_in)"
   ]
  },
  {
   "cell_type": "code",
   "execution_count": 3,
   "id": "b766dc5c-1289-4b59-9e90-c78ec9f98dae",
   "metadata": {},
   "outputs": [
    {
     "name": "stdout",
     "output_type": "stream",
     "text": [
      "{'0': 'Bicycles crossing', '1': 'Bicycles Crossing1', '2': 'Children crossing', '3': 'cropped', '4': 'Danger Ahead', '5': 'Dangerous curve to the left', '6': 'Dangerous curve to the right', '7': 'Dont Go Left', '8': 'Dont Go Left or Right', '9': 'Dont Go Right', '10': 'Dont Go straight', '11': 'Dont Go straight or left', '12': 'Dont Go straight or Right', '13': 'Dont overtake from Left', '14': 'Fences', '15': 'Give Way', '16': 'Go Left', '17': 'Go Left or right', '18': 'Go left or straight', '19': 'Go Right', '20': 'Go right or straight', '21': 'Go straight', '22': 'Go straight or right', '23': 'Heavy Vehicle Accidents', '24': 'Horn', '25': 'keep Left', '26': 'keep Right', '27': 'No Car', '28': 'No entry', '29': 'No horn', '30': 'No Uturn', '31': 'Road Divider', '32': 'Roundabout mandatory', '33': 'Speed limit (15kmh)', '34': 'Speed limit (30kmh)', '35': 'Speed limit (40kmh)', '36': 'Speed limit (50kmh)', '37': 'Speed limit (5kmh)', '38': 'Speed limit (60kmh)', '39': 'Speed limit (70kmh)', '40': 'speed limit (80kmh)', '41': 'Traffic signals', '42': 'Train Crossing', '43': 'Under Construction', '44': 'Uturn', '45': 'watch out for cars', '46': 'Zebra Crossing', '47': 'ZigZag Curve'}\n"
     ]
    }
   ],
   "source": [
    "import json\n",
    "with open(\"class dictionary.json\", \"r\") as f:\n",
    "    s = f.read()\n",
    "    catag = json.loads(s)\n",
    "    print(catag)"
   ]
  },
  {
   "cell_type": "code",
   "execution_count": null,
   "id": "e1bef6b3-ab52-45e2-a663-aefb97fd4ce1",
   "metadata": {},
   "outputs": [],
   "source": [
    "import numpy as np\n",
    "import cv2\n",
    "import pickle\n",
    " \n",
    "#############################################\n",
    " \n",
    "frameWidth= 640         # CAMERA RESOLUTION\n",
    "frameHeight = 480\n",
    "brightness = 180\n",
    "threshold = 0.90         # PROBABLITY THRESHOLD\n",
    "font = cv2.FONT_HERSHEY_SIMPLEX\n",
    "##############################################\n",
    " \n",
    "# SETUP THE VIDEO CAMERA\n",
    "cap = cv2.VideoCapture(0)\n",
    "cap.set(3, frameWidth)\n",
    "cap.set(4, frameHeight)\n",
    "cap.set(10, brightness)\n",
    "\n",
    " \n",
    "def grayscale(img):\n",
    "    img = cv2.cvtColor(img,cv2.COLOR_BGR2GRAY)\n",
    "    return img\n",
    "def equalize(img):\n",
    "    img =cv2.equalizeHist(img)\n",
    "    return img\n",
    "def preprocessing(img):\n",
    "    img = grayscale(img)\n",
    "    img = equalize(img)\n",
    "    img = img/255\n",
    "    return img\n",
    "def getCalssName(classNo):\n",
    "    for x, y in catag.items():\n",
    "        if classNo == int(x): return str(y)\n",
    "while True:\n",
    " \n",
    "    # READ IMAGE\n",
    "    success, imgOrignal = cap.read()\n",
    " \n",
    "    # PROCESS IMAGE\n",
    "    img = np.asarray(imgOrignal)\n",
    "    img = cv2.resize(img, (32, 32))\n",
    "    img = preprocessing(img)\n",
    "    cv2.imshow(\"Processed Image\", img)\n",
    "    img = img.reshape(1, 32, 32, 1)\n",
    "    cv2.putText(imgOrignal, \"CLASS: \" , (20, 35), font, 0.75, (0, 0, 255), 2, cv2.LINE_AA)\n",
    "    cv2.putText(imgOrignal, \"PROBABILITY: \", (20, 75), font, 0.75, (0, 0, 255), 2, cv2.LINE_AA)\n",
    "    # PREDICT IMAGE\n",
    "    predictions = model.predict(img)\n",
    "    classIndex = model.predict_classes(img)\n",
    "    probabilityValue =np.amax(predictions)\n",
    "    if probabilityValue > threshold:\n",
    "        #print(getCalssName(classIndex))\n",
    "        cv2.putText(imgOrignal,str(classIndex)+\" \"+str(getCalssName(classIndex)), (120, 35), font, 0.75, (0, 0, 255), 2, cv2.LINE_AA)\n",
    "        cv2.putText(imgOrignal, str(round(probabilityValue*100,2) )+\"%\", (180, 75), font, 0.75, (0, 0, 255), 2, cv2.LINE_AA)\n",
    "    cv2.imshow(\"Result\", imgOrignal)\n",
    " \n",
    "    if cv2.waitKey(1) and 0xFF == ord('q'):\n",
    "        break"
   ]
  },
  {
   "cell_type": "code",
   "execution_count": null,
   "id": "58e74494-32e7-4b92-9d0d-7970c1e094d3",
   "metadata": {},
   "outputs": [],
   "source": []
  },
  {
   "cell_type": "code",
   "execution_count": null,
   "id": "ecf520f0-e881-46bf-a807-3a0a9dffd944",
   "metadata": {},
   "outputs": [],
   "source": []
  },
  {
   "cell_type": "code",
   "execution_count": null,
   "id": "8c4f00fb-4a40-46d3-b446-163fba7d4039",
   "metadata": {},
   "outputs": [],
   "source": []
  },
  {
   "cell_type": "code",
   "execution_count": null,
   "id": "daa170dd-47c6-4c0e-bd64-2f43e159c5d2",
   "metadata": {},
   "outputs": [],
   "source": []
  },
  {
   "cell_type": "code",
   "execution_count": null,
   "id": "64d9ec2f-4744-4b93-93bf-4aa0e33efa5b",
   "metadata": {},
   "outputs": [],
   "source": []
  },
  {
   "cell_type": "code",
   "execution_count": null,
   "id": "633c86f6-c9f6-420a-b697-43ddf51c6bc0",
   "metadata": {},
   "outputs": [],
   "source": []
  },
  {
   "cell_type": "code",
   "execution_count": null,
   "id": "36fce878-e9c1-4c12-a3fa-db49051a9bb0",
   "metadata": {},
   "outputs": [],
   "source": []
  },
  {
   "cell_type": "code",
   "execution_count": null,
   "id": "87157daf-39d7-40be-bca9-221321bcd14a",
   "metadata": {},
   "outputs": [],
   "source": []
  },
  {
   "cell_type": "code",
   "execution_count": null,
   "id": "9624ef77-24f7-4912-865c-7a1603b1edf6",
   "metadata": {},
   "outputs": [],
   "source": []
  },
  {
   "cell_type": "code",
   "execution_count": null,
   "id": "eeb7579f-89b3-4bd1-b6e0-5f6617dc4c8a",
   "metadata": {},
   "outputs": [],
   "source": []
  },
  {
   "cell_type": "code",
   "execution_count": null,
   "id": "fa2836b0-0571-424f-bdbc-41dab52e668b",
   "metadata": {},
   "outputs": [],
   "source": []
  },
  {
   "cell_type": "code",
   "execution_count": null,
   "id": "bad596b4-2b21-4955-b0c8-a67a6f7423ba",
   "metadata": {},
   "outputs": [],
   "source": []
  },
  {
   "cell_type": "code",
   "execution_count": null,
   "id": "eda3f5ab-5f74-4042-bbeb-879e7289ac88",
   "metadata": {},
   "outputs": [],
   "source": []
  },
  {
   "cell_type": "code",
   "execution_count": null,
   "id": "9f0937ab-e315-4cfe-a176-dab2bf2f2a2d",
   "metadata": {},
   "outputs": [],
   "source": []
  },
  {
   "cell_type": "code",
   "execution_count": null,
   "id": "800ee9c6-e2bc-4c27-92cd-1cf116ecd51f",
   "metadata": {},
   "outputs": [],
   "source": []
  },
  {
   "cell_type": "code",
   "execution_count": null,
   "id": "81f5630e-34b7-4f94-a924-a99b142a98b9",
   "metadata": {},
   "outputs": [],
   "source": []
  },
  {
   "cell_type": "code",
   "execution_count": null,
   "id": "eacb7146-f123-4de4-9822-e95b8a20d586",
   "metadata": {},
   "outputs": [],
   "source": []
  },
  {
   "cell_type": "code",
   "execution_count": null,
   "id": "5920198b-4421-448e-ab54-ef92cec9c6c1",
   "metadata": {},
   "outputs": [],
   "source": []
  },
  {
   "cell_type": "code",
   "execution_count": null,
   "id": "7cf1bb9c-3308-4a5e-b59a-98dfb846effc",
   "metadata": {},
   "outputs": [],
   "source": []
  },
  {
   "cell_type": "code",
   "execution_count": null,
   "id": "e9a4d8a1-b766-482a-9af3-fe02f9ac0d3d",
   "metadata": {},
   "outputs": [],
   "source": []
  },
  {
   "cell_type": "code",
   "execution_count": null,
   "id": "3e34462b-7234-4bec-96b6-1b2020b388db",
   "metadata": {},
   "outputs": [],
   "source": []
  },
  {
   "cell_type": "code",
   "execution_count": null,
   "id": "6c49f3dd-479a-4edd-b90c-2b598cb33bfd",
   "metadata": {},
   "outputs": [],
   "source": []
  },
  {
   "cell_type": "code",
   "execution_count": null,
   "id": "3a0abbee-377b-4a87-876d-e8ddfad40e58",
   "metadata": {},
   "outputs": [],
   "source": []
  },
  {
   "cell_type": "code",
   "execution_count": null,
   "id": "c96b117e-2b62-4ce9-b357-b401a3868b08",
   "metadata": {},
   "outputs": [],
   "source": []
  },
  {
   "cell_type": "code",
   "execution_count": null,
   "id": "5efffbb6-a8b5-412f-ad7c-65d1d92c1281",
   "metadata": {},
   "outputs": [],
   "source": []
  },
  {
   "cell_type": "code",
   "execution_count": null,
   "id": "9cbb837b-17c8-4a65-ab02-06dc419d7c95",
   "metadata": {},
   "outputs": [],
   "source": []
  },
  {
   "cell_type": "code",
   "execution_count": null,
   "id": "b719466c-2284-4eb0-a077-38bc1d36b4a7",
   "metadata": {},
   "outputs": [],
   "source": []
  },
  {
   "cell_type": "code",
   "execution_count": null,
   "id": "484fcd97-31d6-4dd4-b4a3-dc5ac6e9bf61",
   "metadata": {},
   "outputs": [],
   "source": []
  },
  {
   "cell_type": "code",
   "execution_count": null,
   "id": "462cb08a-617d-472c-8db4-51db3dcf82ca",
   "metadata": {},
   "outputs": [],
   "source": []
  },
  {
   "cell_type": "code",
   "execution_count": null,
   "id": "50534df3-e888-49db-ac7e-8336eaff8abe",
   "metadata": {},
   "outputs": [],
   "source": []
  },
  {
   "cell_type": "code",
   "execution_count": null,
   "id": "495e688b-02f0-455c-86d6-406036817b71",
   "metadata": {},
   "outputs": [],
   "source": []
  },
  {
   "cell_type": "code",
   "execution_count": null,
   "id": "632b2a1b-bedd-4f80-9b1f-555d6289a32c",
   "metadata": {},
   "outputs": [],
   "source": []
  },
  {
   "cell_type": "code",
   "execution_count": null,
   "id": "7e0e7f8f-1fa4-4d60-8e28-efb173d31fee",
   "metadata": {},
   "outputs": [],
   "source": []
  },
  {
   "cell_type": "code",
   "execution_count": null,
   "id": "b1ecae09-6f09-4f08-be5e-2c1137504e5c",
   "metadata": {},
   "outputs": [],
   "source": []
  },
  {
   "cell_type": "code",
   "execution_count": null,
   "id": "7b7cbee7-30df-4f5f-8656-d8098e656f83",
   "metadata": {},
   "outputs": [],
   "source": []
  },
  {
   "cell_type": "code",
   "execution_count": null,
   "id": "e4d35d89-76b7-44c5-9c17-4ac7d172f141",
   "metadata": {},
   "outputs": [],
   "source": []
  },
  {
   "cell_type": "code",
   "execution_count": null,
   "id": "5dd673e3-b2e0-4bf2-a023-0d3496d37154",
   "metadata": {},
   "outputs": [],
   "source": []
  },
  {
   "cell_type": "code",
   "execution_count": null,
   "id": "bc34b4a0-0f64-483d-8f0a-c9c03d33f820",
   "metadata": {},
   "outputs": [],
   "source": []
  },
  {
   "cell_type": "code",
   "execution_count": null,
   "id": "083d0812-b14f-48ca-ac75-bc46adf0b9ff",
   "metadata": {},
   "outputs": [],
   "source": []
  }
 ],
 "metadata": {
  "kernelspec": {
   "display_name": "Python 3 (ipykernel)",
   "language": "python",
   "name": "python3"
  },
  "language_info": {
   "codemirror_mode": {
    "name": "ipython",
    "version": 3
   },
   "file_extension": ".py",
   "mimetype": "text/x-python",
   "name": "python",
   "nbconvert_exporter": "python",
   "pygments_lexer": "ipython3",
   "version": "3.7.13"
  }
 },
 "nbformat": 4,
 "nbformat_minor": 5
}
